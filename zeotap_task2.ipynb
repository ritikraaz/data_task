{
  "nbformat": 4,
  "nbformat_minor": 0,
  "metadata": {
    "colab": {
      "provenance": [],
      "gpuType": "T4"
    },
    "kernelspec": {
      "name": "python3",
      "display_name": "Python 3"
    },
    "language_info": {
      "name": "python"
    },
    "accelerator": "GPU"
  },
  "cells": [
    {
      "cell_type": "code",
      "execution_count": 1,
      "metadata": {
        "id": "tMwdkWhKw7Sy"
      },
      "outputs": [],
      "source": [
        "import pandas as pd\n",
        "from sklearn.preprocessing import OneHotEncoder, MinMaxScaler\n",
        "from sklearn.metrics.pairwise import cosine_similarity"
      ]
    },
    {
      "cell_type": "code",
      "source": [
        "customers = pd.read_csv(\"Customers.csv\")\n",
        "products = pd.read_csv(\"Products.csv\")\n",
        "transactions = pd.read_csv(\"Transactions.csv\")"
      ],
      "metadata": {
        "id": "ZZsMe4KcxgGS"
      },
      "execution_count": 2,
      "outputs": []
    },
    {
      "cell_type": "code",
      "source": [
        "merged = pd.merge(transactions, customers, on=\"CustomerID\")\n",
        "merged = pd.merge(merged, products, on=\"ProductID\")"
      ],
      "metadata": {
        "id": "uAaZUltExiHt"
      },
      "execution_count": 3,
      "outputs": []
    },
    {
      "cell_type": "code",
      "source": [
        "customer_profile = merged.groupby(\"CustomerID\").agg({\n",
        "    \"TotalValue\": \"sum\",\n",
        "    \"Quantity\": \"sum\",\n",
        "    \"Region\": \"first\",\n",
        "    \"Category\": lambda x: x.mode()[0]\n",
        "}).reset_index()"
      ],
      "metadata": {
        "id": "JK6rZtY2xzx-"
      },
      "execution_count": 4,
      "outputs": []
    },
    {
      "cell_type": "code",
      "source": [
        "encoder = OneHotEncoder()\n",
        "encoded_features = encoder.fit_transform(customer_profile[[\"Region\", \"Category\"]]).toarray()\n",
        "encoded_feature_names = encoder.get_feature_names_out([\"Region\", \"Category\"])\n",
        "encoded_df = pd.DataFrame(encoded_features, columns=encoded_feature_names)"
      ],
      "metadata": {
        "id": "6uueTrkdx3DJ"
      },
      "execution_count": 5,
      "outputs": []
    },
    {
      "cell_type": "code",
      "source": [
        "scaler = MinMaxScaler()\n",
        "scaled_features = scaler.fit_transform(customer_profile[[\"TotalValue\", \"Quantity\"]])\n",
        "scaled_df = pd.DataFrame(scaled_features, columns=[\"Scaled_TotalValue\", \"Scaled_Quantity\"])"
      ],
      "metadata": {
        "id": "2E3qBR7ByzMg"
      },
      "execution_count": 6,
      "outputs": []
    },
    {
      "cell_type": "code",
      "source": [
        "final_features = pd.concat([scaled_df, encoded_df], axis=1)\n",
        "final_features[\"CustomerID\"] = customer_profile[\"CustomerID\"]"
      ],
      "metadata": {
        "id": "tuBwUbQGy2ww"
      },
      "execution_count": 7,
      "outputs": []
    },
    {
      "cell_type": "code",
      "source": [
        "similarity_matrix = cosine_similarity(final_features.drop(columns=[\"CustomerID\"]))"
      ],
      "metadata": {
        "id": "d5k3Qf-fy57y"
      },
      "execution_count": 8,
      "outputs": []
    },
    {
      "cell_type": "code",
      "source": [
        "print(similarity_matrix.shape)\n",
        "print(len(customer_ids))"
      ],
      "metadata": {
        "colab": {
          "base_uri": "https://localhost:8080/"
        },
        "id": "FttbxjoPzG1c",
        "outputId": "187905c5-0bb4-4619-a2d2-4ef09f93b31a"
      },
      "execution_count": 14,
      "outputs": [
        {
          "output_type": "stream",
          "name": "stdout",
          "text": [
            "(199, 199)\n",
            "199\n"
          ]
        }
      ]
    },
    {
      "cell_type": "code",
      "source": [
        "def recommend_lookalikes(similarity_matrix, customer_ids, top_n=3):\n",
        "    recommendations = {}\n",
        "\n",
        "    num_customers = len(customer_ids)\n",
        "\n",
        "    for i, customer_id in enumerate(customer_ids):\n",
        "        # Get similarity scores for the current customer\n",
        "        scores = list(enumerate(similarity_matrix[i]))\n",
        "\n",
        "        # Sort by similarity scores and exclude the customer itself\n",
        "        scores = sorted(scores, key=lambda x: x[1], reverse=True)\n",
        "\n",
        "        # Filter scores to only include valid indices\n",
        "        scores = [(idx, score) for idx, score in scores if idx != i and idx < num_customers]\n",
        "\n",
        "        # Take the top N similar customers\n",
        "        top_scores = scores[:top_n]\n",
        "\n",
        "        recommendations[customer_id] = [(customer_ids[idx], round(score, 4)) for idx, score in top_scores]\n",
        "\n",
        "    return recommendations\n"
      ],
      "metadata": {
        "id": "3CkkckcFzg6a"
      },
      "execution_count": 15,
      "outputs": []
    },
    {
      "cell_type": "code",
      "source": [
        "customer_ids = customer_profile[\"CustomerID\"].tolist()\n",
        "top_lookalikes = recommend_lookalikes(similarity_matrix, customer_ids[:20])"
      ],
      "metadata": {
        "id": "Oy2J82ggznaF"
      },
      "execution_count": 17,
      "outputs": []
    },
    {
      "cell_type": "code",
      "source": [
        "import csv\n",
        "\n",
        "# Save recommendations to a CSV file\n",
        "with open(\"Lookalike.csv\", mode=\"w\", newline=\"\") as file:\n",
        "    writer = csv.writer(file)\n",
        "    writer.writerow([\"CustomerID\", \"Lookalikes\"])\n",
        "\n",
        "    for customer_id, lookalikes in top_lookalikes.items():\n",
        "        lookalike_str = \"; \".join([f\"{cust_id} (Score: {score})\" for cust_id, score in lookalikes])\n",
        "        writer.writerow([customer_id, lookalike_str])\n",
        "\n",
        "print(\"Lookalike recommendations saved to Lookalike.csv.\")"
      ],
      "metadata": {
        "colab": {
          "base_uri": "https://localhost:8080/"
        },
        "id": "bMxPgLlOzp6i",
        "outputId": "da5d2ada-798c-426b-c54c-02ebac670f29"
      },
      "execution_count": 18,
      "outputs": [
        {
          "output_type": "stream",
          "name": "stdout",
          "text": [
            "Lookalike recommendations saved to Lookalike.csv.\n"
          ]
        }
      ]
    },
    {
      "cell_type": "code",
      "source": [
        "import matplotlib.pyplot as plt\n",
        "import seaborn as sns\n",
        "\n",
        "similarity_scores = similarity_matrix.flatten()\n",
        "\n",
        "plt.figure(figsize=(8, 5))\n",
        "sns.histplot(similarity_scores, bins=30, kde=True, color=\"skyblue\")\n",
        "plt.title(\"Distribution of Similarity Scores\")\n",
        "plt.xlabel(\"Similarity Score\")\n",
        "plt.ylabel(\"Frequency\")\n",
        "plt.show()\n"
      ],
      "metadata": {
        "colab": {
          "base_uri": "https://localhost:8080/",
          "height": 487
        },
        "id": "FS01i5XF0BdD",
        "outputId": "7796e9ed-cb56-4b3b-e6cb-d9a5408ae794"
      },
      "execution_count": 19,
      "outputs": [
        {
          "output_type": "display_data",
          "data": {
            "text/plain": [
              "<Figure size 800x500 with 1 Axes>"
            ],
            "image/png": "[encoded data removed]"
          },
          "metadata": {}
        }
      ]
    },
    {
      "cell_type": "code",
      "source": [],
      "metadata": {
        "id": "lKvcFXT80IiL"
      },
      "execution_count": null,
      "outputs": []
    }
  ]
}